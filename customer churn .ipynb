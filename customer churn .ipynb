{
 "cells": [
  {
   "cell_type": "code",
   "execution_count": 355,
   "id": "822e41ae",
   "metadata": {},
   "outputs": [],
   "source": [
    "# import nessessary libraries"
   ]
  },
  {
   "cell_type": "code",
   "execution_count": 356,
   "id": "4863f1c8",
   "metadata": {},
   "outputs": [],
   "source": [
    "import pandas as pd \n",
    "import numpy as np"
   ]
  },
  {
   "cell_type": "code",
   "execution_count": 357,
   "id": "5ba61b08",
   "metadata": {},
   "outputs": [],
   "source": [
    "#load dataset"
   ]
  },
  {
   "cell_type": "code",
   "execution_count": 358,
   "id": "1c2ef78d",
   "metadata": {},
   "outputs": [],
   "source": [
    "churn_data=pd.read_excel(\"C://Users//PAGALAVAN SELVAM//Downloads//customer_churn_large_dataset.xlsx\")"
   ]
  },
  {
   "cell_type": "code",
   "execution_count": 359,
   "id": "2c12a05e",
   "metadata": {},
   "outputs": [
    {
     "data": {
      "text/html": [
       "<div>\n",
       "<style scoped>\n",
       "    .dataframe tbody tr th:only-of-type {\n",
       "        vertical-align: middle;\n",
       "    }\n",
       "\n",
       "    .dataframe tbody tr th {\n",
       "        vertical-align: top;\n",
       "    }\n",
       "\n",
       "    .dataframe thead th {\n",
       "        text-align: right;\n",
       "    }\n",
       "</style>\n",
       "<table border=\"1\" class=\"dataframe\">\n",
       "  <thead>\n",
       "    <tr style=\"text-align: right;\">\n",
       "      <th></th>\n",
       "      <th>CustomerID</th>\n",
       "      <th>Name</th>\n",
       "      <th>Age</th>\n",
       "      <th>Gender</th>\n",
       "      <th>Location</th>\n",
       "      <th>Subscription_Length_Months</th>\n",
       "      <th>Monthly_Bill</th>\n",
       "      <th>Total_Usage_GB</th>\n",
       "      <th>Churn</th>\n",
       "    </tr>\n",
       "  </thead>\n",
       "  <tbody>\n",
       "    <tr>\n",
       "      <th>0</th>\n",
       "      <td>1</td>\n",
       "      <td>Customer_1</td>\n",
       "      <td>63</td>\n",
       "      <td>Male</td>\n",
       "      <td>Los Angeles</td>\n",
       "      <td>17</td>\n",
       "      <td>73.36</td>\n",
       "      <td>236</td>\n",
       "      <td>0</td>\n",
       "    </tr>\n",
       "    <tr>\n",
       "      <th>1</th>\n",
       "      <td>2</td>\n",
       "      <td>Customer_2</td>\n",
       "      <td>62</td>\n",
       "      <td>Female</td>\n",
       "      <td>New York</td>\n",
       "      <td>1</td>\n",
       "      <td>48.76</td>\n",
       "      <td>172</td>\n",
       "      <td>0</td>\n",
       "    </tr>\n",
       "    <tr>\n",
       "      <th>2</th>\n",
       "      <td>3</td>\n",
       "      <td>Customer_3</td>\n",
       "      <td>24</td>\n",
       "      <td>Female</td>\n",
       "      <td>Los Angeles</td>\n",
       "      <td>5</td>\n",
       "      <td>85.47</td>\n",
       "      <td>460</td>\n",
       "      <td>0</td>\n",
       "    </tr>\n",
       "    <tr>\n",
       "      <th>3</th>\n",
       "      <td>4</td>\n",
       "      <td>Customer_4</td>\n",
       "      <td>36</td>\n",
       "      <td>Female</td>\n",
       "      <td>Miami</td>\n",
       "      <td>3</td>\n",
       "      <td>97.94</td>\n",
       "      <td>297</td>\n",
       "      <td>1</td>\n",
       "    </tr>\n",
       "    <tr>\n",
       "      <th>4</th>\n",
       "      <td>5</td>\n",
       "      <td>Customer_5</td>\n",
       "      <td>46</td>\n",
       "      <td>Female</td>\n",
       "      <td>Miami</td>\n",
       "      <td>19</td>\n",
       "      <td>58.14</td>\n",
       "      <td>266</td>\n",
       "      <td>0</td>\n",
       "    </tr>\n",
       "  </tbody>\n",
       "</table>\n",
       "</div>"
      ],
      "text/plain": [
       "   CustomerID        Name  Age  Gender     Location  \\\n",
       "0           1  Customer_1   63    Male  Los Angeles   \n",
       "1           2  Customer_2   62  Female     New York   \n",
       "2           3  Customer_3   24  Female  Los Angeles   \n",
       "3           4  Customer_4   36  Female        Miami   \n",
       "4           5  Customer_5   46  Female        Miami   \n",
       "\n",
       "   Subscription_Length_Months  Monthly_Bill  Total_Usage_GB  Churn  \n",
       "0                          17         73.36             236      0  \n",
       "1                           1         48.76             172      0  \n",
       "2                           5         85.47             460      0  \n",
       "3                           3         97.94             297      1  \n",
       "4                          19         58.14             266      0  "
      ]
     },
     "execution_count": 359,
     "metadata": {},
     "output_type": "execute_result"
    }
   ],
   "source": [
    "churn_data.head()"
   ]
  },
  {
   "cell_type": "code",
   "execution_count": 360,
   "id": "4918c3d7",
   "metadata": {},
   "outputs": [],
   "source": [
    "#statistical description of a dataset"
   ]
  },
  {
   "cell_type": "code",
   "execution_count": 361,
   "id": "21ba56a5",
   "metadata": {},
   "outputs": [
    {
     "name": "stdout",
     "output_type": "stream",
     "text": [
      "<class 'pandas.core.frame.DataFrame'>\n",
      "RangeIndex: 100000 entries, 0 to 99999\n",
      "Data columns (total 9 columns):\n",
      " #   Column                      Non-Null Count   Dtype  \n",
      "---  ------                      --------------   -----  \n",
      " 0   CustomerID                  100000 non-null  int64  \n",
      " 1   Name                        100000 non-null  object \n",
      " 2   Age                         100000 non-null  int64  \n",
      " 3   Gender                      100000 non-null  object \n",
      " 4   Location                    100000 non-null  object \n",
      " 5   Subscription_Length_Months  100000 non-null  int64  \n",
      " 6   Monthly_Bill                100000 non-null  float64\n",
      " 7   Total_Usage_GB              100000 non-null  int64  \n",
      " 8   Churn                       100000 non-null  int64  \n",
      "dtypes: float64(1), int64(5), object(3)\n",
      "memory usage: 6.9+ MB\n"
     ]
    }
   ],
   "source": [
    "churn_data.info()"
   ]
  },
  {
   "cell_type": "code",
   "execution_count": 362,
   "id": "5229a2c1",
   "metadata": {},
   "outputs": [
    {
     "data": {
      "text/html": [
       "<div>\n",
       "<style scoped>\n",
       "    .dataframe tbody tr th:only-of-type {\n",
       "        vertical-align: middle;\n",
       "    }\n",
       "\n",
       "    .dataframe tbody tr th {\n",
       "        vertical-align: top;\n",
       "    }\n",
       "\n",
       "    .dataframe thead th {\n",
       "        text-align: right;\n",
       "    }\n",
       "</style>\n",
       "<table border=\"1\" class=\"dataframe\">\n",
       "  <thead>\n",
       "    <tr style=\"text-align: right;\">\n",
       "      <th></th>\n",
       "      <th>CustomerID</th>\n",
       "      <th>Age</th>\n",
       "      <th>Subscription_Length_Months</th>\n",
       "      <th>Monthly_Bill</th>\n",
       "      <th>Total_Usage_GB</th>\n",
       "      <th>Churn</th>\n",
       "    </tr>\n",
       "  </thead>\n",
       "  <tbody>\n",
       "    <tr>\n",
       "      <th>count</th>\n",
       "      <td>100000.000000</td>\n",
       "      <td>100000.000000</td>\n",
       "      <td>100000.000000</td>\n",
       "      <td>100000.000000</td>\n",
       "      <td>100000.000000</td>\n",
       "      <td>100000.000000</td>\n",
       "    </tr>\n",
       "    <tr>\n",
       "      <th>mean</th>\n",
       "      <td>50000.500000</td>\n",
       "      <td>44.027020</td>\n",
       "      <td>12.490100</td>\n",
       "      <td>65.053197</td>\n",
       "      <td>274.393650</td>\n",
       "      <td>0.497790</td>\n",
       "    </tr>\n",
       "    <tr>\n",
       "      <th>std</th>\n",
       "      <td>28867.657797</td>\n",
       "      <td>15.280283</td>\n",
       "      <td>6.926461</td>\n",
       "      <td>20.230696</td>\n",
       "      <td>130.463063</td>\n",
       "      <td>0.499998</td>\n",
       "    </tr>\n",
       "    <tr>\n",
       "      <th>min</th>\n",
       "      <td>1.000000</td>\n",
       "      <td>18.000000</td>\n",
       "      <td>1.000000</td>\n",
       "      <td>30.000000</td>\n",
       "      <td>50.000000</td>\n",
       "      <td>0.000000</td>\n",
       "    </tr>\n",
       "    <tr>\n",
       "      <th>25%</th>\n",
       "      <td>25000.750000</td>\n",
       "      <td>31.000000</td>\n",
       "      <td>6.000000</td>\n",
       "      <td>47.540000</td>\n",
       "      <td>161.000000</td>\n",
       "      <td>0.000000</td>\n",
       "    </tr>\n",
       "    <tr>\n",
       "      <th>50%</th>\n",
       "      <td>50000.500000</td>\n",
       "      <td>44.000000</td>\n",
       "      <td>12.000000</td>\n",
       "      <td>65.010000</td>\n",
       "      <td>274.000000</td>\n",
       "      <td>0.000000</td>\n",
       "    </tr>\n",
       "    <tr>\n",
       "      <th>75%</th>\n",
       "      <td>75000.250000</td>\n",
       "      <td>57.000000</td>\n",
       "      <td>19.000000</td>\n",
       "      <td>82.640000</td>\n",
       "      <td>387.000000</td>\n",
       "      <td>1.000000</td>\n",
       "    </tr>\n",
       "    <tr>\n",
       "      <th>max</th>\n",
       "      <td>100000.000000</td>\n",
       "      <td>70.000000</td>\n",
       "      <td>24.000000</td>\n",
       "      <td>100.000000</td>\n",
       "      <td>500.000000</td>\n",
       "      <td>1.000000</td>\n",
       "    </tr>\n",
       "  </tbody>\n",
       "</table>\n",
       "</div>"
      ],
      "text/plain": [
       "          CustomerID            Age  Subscription_Length_Months  \\\n",
       "count  100000.000000  100000.000000               100000.000000   \n",
       "mean    50000.500000      44.027020                   12.490100   \n",
       "std     28867.657797      15.280283                    6.926461   \n",
       "min         1.000000      18.000000                    1.000000   \n",
       "25%     25000.750000      31.000000                    6.000000   \n",
       "50%     50000.500000      44.000000                   12.000000   \n",
       "75%     75000.250000      57.000000                   19.000000   \n",
       "max    100000.000000      70.000000                   24.000000   \n",
       "\n",
       "        Monthly_Bill  Total_Usage_GB          Churn  \n",
       "count  100000.000000   100000.000000  100000.000000  \n",
       "mean       65.053197      274.393650       0.497790  \n",
       "std        20.230696      130.463063       0.499998  \n",
       "min        30.000000       50.000000       0.000000  \n",
       "25%        47.540000      161.000000       0.000000  \n",
       "50%        65.010000      274.000000       0.000000  \n",
       "75%        82.640000      387.000000       1.000000  \n",
       "max       100.000000      500.000000       1.000000  "
      ]
     },
     "execution_count": 362,
     "metadata": {},
     "output_type": "execute_result"
    }
   ],
   "source": [
    "churn_data.describe()"
   ]
  },
  {
   "cell_type": "code",
   "execution_count": 363,
   "id": "89ff4ae8",
   "metadata": {},
   "outputs": [
    {
     "data": {
      "text/plain": [
       "Houston        20157\n",
       "Los Angeles    20041\n",
       "Miami          20031\n",
       "Chicago        19958\n",
       "New York       19813\n",
       "Name: Location, dtype: int64"
      ]
     },
     "execution_count": 363,
     "metadata": {},
     "output_type": "execute_result"
    }
   ],
   "source": [
    "churn_data['Location'].value_counts()"
   ]
  },
  {
   "cell_type": "code",
   "execution_count": 364,
   "id": "82c66e9c",
   "metadata": {},
   "outputs": [],
   "source": [
    "#one-hot_encoding"
   ]
  },
  {
   "cell_type": "code",
   "execution_count": 365,
   "id": "a80dc6fc",
   "metadata": {},
   "outputs": [],
   "source": [
    "gen = pd.get_dummies(churn_data['Gender'],prefix='gender',drop_first=True)\n",
    "churn_data=pd.concat([churn_data,gen],axis=1)"
   ]
  },
  {
   "cell_type": "code",
   "execution_count": 366,
   "id": "18cd66fb",
   "metadata": {},
   "outputs": [],
   "source": [
    "loc = pd.get_dummies(churn_data['Location'],prefix='loc',drop_first=True)\n",
    "churn_data=pd.concat([churn_data,loc],axis=1)"
   ]
  },
  {
   "cell_type": "code",
   "execution_count": 367,
   "id": "91e962f8",
   "metadata": {},
   "outputs": [
    {
     "name": "stderr",
     "output_type": "stream",
     "text": [
      "C:\\Users\\PAGALAVAN SELVAM\\AppData\\Local\\Temp\\ipykernel_22644\\2587009009.py:1: FutureWarning: In a future version of pandas all arguments of DataFrame.drop except for the argument 'labels' will be keyword-only.\n",
      "  churn_data=churn_data.drop(['CustomerID','Name','Gender',\"Location\"],1)\n"
     ]
    }
   ],
   "source": [
    "churn_data=churn_data.drop(['CustomerID','Name','Gender',\"Location\"],1)"
   ]
  },
  {
   "cell_type": "code",
   "execution_count": 368,
   "id": "b2074eb7",
   "metadata": {},
   "outputs": [
    {
     "name": "stdout",
     "output_type": "stream",
     "text": [
      "<class 'pandas.core.frame.DataFrame'>\n",
      "RangeIndex: 100000 entries, 0 to 99999\n",
      "Data columns (total 10 columns):\n",
      " #   Column                      Non-Null Count   Dtype  \n",
      "---  ------                      --------------   -----  \n",
      " 0   Age                         100000 non-null  int64  \n",
      " 1   Subscription_Length_Months  100000 non-null  int64  \n",
      " 2   Monthly_Bill                100000 non-null  float64\n",
      " 3   Total_Usage_GB              100000 non-null  int64  \n",
      " 4   Churn                       100000 non-null  int64  \n",
      " 5   gender_Male                 100000 non-null  uint8  \n",
      " 6   loc_Houston                 100000 non-null  uint8  \n",
      " 7   loc_Los Angeles             100000 non-null  uint8  \n",
      " 8   loc_Miami                   100000 non-null  uint8  \n",
      " 9   loc_New York                100000 non-null  uint8  \n",
      "dtypes: float64(1), int64(4), uint8(5)\n",
      "memory usage: 4.3 MB\n"
     ]
    }
   ],
   "source": [
    "churn_data.info()"
   ]
  },
  {
   "cell_type": "code",
   "execution_count": 369,
   "id": "8dafee16",
   "metadata": {},
   "outputs": [],
   "source": [
    "df=churn_data[[\"Monthly_Bill\",\"Total_Usage_GB\",'Subscription_Length_Months',\"Age\"]]"
   ]
  },
  {
   "cell_type": "code",
   "execution_count": null,
   "id": "7f98ecc7",
   "metadata": {},
   "outputs": [],
   "source": []
  },
  {
   "cell_type": "code",
   "execution_count": 370,
   "id": "792d24ee",
   "metadata": {},
   "outputs": [],
   "source": [
    "std_df=(df-df.mean())/df.std()"
   ]
  },
  {
   "cell_type": "code",
   "execution_count": 371,
   "id": "814ed244",
   "metadata": {},
   "outputs": [
    {
     "name": "stderr",
     "output_type": "stream",
     "text": [
      "C:\\Users\\PAGALAVAN SELVAM\\AppData\\Local\\Temp\\ipykernel_22644\\630491082.py:1: FutureWarning: In a future version of pandas all arguments of DataFrame.drop except for the argument 'labels' will be keyword-only.\n",
      "  churn_data=churn_data.drop([\"Monthly_Bill\",\"Total_Usage_GB\",'Subscription_Length_Months','Age'],1)\n"
     ]
    }
   ],
   "source": [
    "churn_data=churn_data.drop([\"Monthly_Bill\",\"Total_Usage_GB\",'Subscription_Length_Months','Age'],1)"
   ]
  },
  {
   "cell_type": "code",
   "execution_count": 372,
   "id": "009c74dc",
   "metadata": {},
   "outputs": [],
   "source": [
    "churn_data=pd.concat([churn_data,std_df],axis=1)"
   ]
  },
  {
   "cell_type": "code",
   "execution_count": 373,
   "id": "bdfec3b1",
   "metadata": {},
   "outputs": [
    {
     "data": {
      "text/html": [
       "<div>\n",
       "<style scoped>\n",
       "    .dataframe tbody tr th:only-of-type {\n",
       "        vertical-align: middle;\n",
       "    }\n",
       "\n",
       "    .dataframe tbody tr th {\n",
       "        vertical-align: top;\n",
       "    }\n",
       "\n",
       "    .dataframe thead th {\n",
       "        text-align: right;\n",
       "    }\n",
       "</style>\n",
       "<table border=\"1\" class=\"dataframe\">\n",
       "  <thead>\n",
       "    <tr style=\"text-align: right;\">\n",
       "      <th></th>\n",
       "      <th>Churn</th>\n",
       "      <th>gender_Male</th>\n",
       "      <th>loc_Houston</th>\n",
       "      <th>loc_Los Angeles</th>\n",
       "      <th>loc_Miami</th>\n",
       "      <th>loc_New York</th>\n",
       "      <th>Monthly_Bill</th>\n",
       "      <th>Total_Usage_GB</th>\n",
       "      <th>Subscription_Length_Months</th>\n",
       "      <th>Age</th>\n",
       "    </tr>\n",
       "  </thead>\n",
       "  <tbody>\n",
       "    <tr>\n",
       "      <th>0</th>\n",
       "      <td>0</td>\n",
       "      <td>1</td>\n",
       "      <td>0</td>\n",
       "      <td>1</td>\n",
       "      <td>0</td>\n",
       "      <td>0</td>\n",
       "      <td>0.410604</td>\n",
       "      <td>-0.294288</td>\n",
       "      <td>0.651112</td>\n",
       "      <td>1.241664</td>\n",
       "    </tr>\n",
       "    <tr>\n",
       "      <th>1</th>\n",
       "      <td>0</td>\n",
       "      <td>0</td>\n",
       "      <td>0</td>\n",
       "      <td>0</td>\n",
       "      <td>0</td>\n",
       "      <td>1</td>\n",
       "      <td>-0.805370</td>\n",
       "      <td>-0.784848</td>\n",
       "      <td>-1.658870</td>\n",
       "      <td>1.176220</td>\n",
       "    </tr>\n",
       "    <tr>\n",
       "      <th>2</th>\n",
       "      <td>0</td>\n",
       "      <td>0</td>\n",
       "      <td>0</td>\n",
       "      <td>1</td>\n",
       "      <td>0</td>\n",
       "      <td>0</td>\n",
       "      <td>1.009199</td>\n",
       "      <td>1.422674</td>\n",
       "      <td>-1.081375</td>\n",
       "      <td>-1.310645</td>\n",
       "    </tr>\n",
       "    <tr>\n",
       "      <th>3</th>\n",
       "      <td>1</td>\n",
       "      <td>0</td>\n",
       "      <td>0</td>\n",
       "      <td>0</td>\n",
       "      <td>1</td>\n",
       "      <td>0</td>\n",
       "      <td>1.625589</td>\n",
       "      <td>0.173278</td>\n",
       "      <td>-1.370122</td>\n",
       "      <td>-0.525319</td>\n",
       "    </tr>\n",
       "    <tr>\n",
       "      <th>4</th>\n",
       "      <td>0</td>\n",
       "      <td>0</td>\n",
       "      <td>0</td>\n",
       "      <td>0</td>\n",
       "      <td>1</td>\n",
       "      <td>0</td>\n",
       "      <td>-0.341718</td>\n",
       "      <td>-0.064337</td>\n",
       "      <td>0.939859</td>\n",
       "      <td>0.129119</td>\n",
       "    </tr>\n",
       "  </tbody>\n",
       "</table>\n",
       "</div>"
      ],
      "text/plain": [
       "   Churn  gender_Male  loc_Houston  loc_Los Angeles  loc_Miami  loc_New York  \\\n",
       "0      0            1            0                1          0             0   \n",
       "1      0            0            0                0          0             1   \n",
       "2      0            0            0                1          0             0   \n",
       "3      1            0            0                0          1             0   \n",
       "4      0            0            0                0          1             0   \n",
       "\n",
       "   Monthly_Bill  Total_Usage_GB  Subscription_Length_Months       Age  \n",
       "0      0.410604       -0.294288                    0.651112  1.241664  \n",
       "1     -0.805370       -0.784848                   -1.658870  1.176220  \n",
       "2      1.009199        1.422674                   -1.081375 -1.310645  \n",
       "3      1.625589        0.173278                   -1.370122 -0.525319  \n",
       "4     -0.341718       -0.064337                    0.939859  0.129119  "
      ]
     },
     "execution_count": 373,
     "metadata": {},
     "output_type": "execute_result"
    }
   ],
   "source": [
    "churn_data.head()"
   ]
  },
  {
   "cell_type": "code",
   "execution_count": 374,
   "id": "f1fd3a4e",
   "metadata": {},
   "outputs": [
    {
     "data": {
      "text/plain": [
       "0.49779"
      ]
     },
     "execution_count": 374,
     "metadata": {},
     "output_type": "execute_result"
    }
   ],
   "source": [
    "churn=(sum(churn_data[\"Churn\"])/len(churn_data[\"Churn\"]))\n",
    "churn"
   ]
  },
  {
   "cell_type": "code",
   "execution_count": 375,
   "id": "bf8964d7",
   "metadata": {},
   "outputs": [],
   "source": [
    "X= churn_data.drop(['Churn'],axis=1)\n",
    "y= churn_data['Churn']"
   ]
  },
  {
   "cell_type": "code",
   "execution_count": 376,
   "id": "6f5390fb",
   "metadata": {},
   "outputs": [
    {
     "data": {
      "text/plain": [
       "0    0\n",
       "1    0\n",
       "2    0\n",
       "3    1\n",
       "4    0\n",
       "Name: Churn, dtype: int64"
      ]
     },
     "execution_count": 376,
     "metadata": {},
     "output_type": "execute_result"
    }
   ],
   "source": [
    "y.head()"
   ]
  },
  {
   "cell_type": "code",
   "execution_count": 377,
   "id": "9482a80c",
   "metadata": {},
   "outputs": [
    {
     "data": {
      "text/html": [
       "<div>\n",
       "<style scoped>\n",
       "    .dataframe tbody tr th:only-of-type {\n",
       "        vertical-align: middle;\n",
       "    }\n",
       "\n",
       "    .dataframe tbody tr th {\n",
       "        vertical-align: top;\n",
       "    }\n",
       "\n",
       "    .dataframe thead th {\n",
       "        text-align: right;\n",
       "    }\n",
       "</style>\n",
       "<table border=\"1\" class=\"dataframe\">\n",
       "  <thead>\n",
       "    <tr style=\"text-align: right;\">\n",
       "      <th></th>\n",
       "      <th>gender_Male</th>\n",
       "      <th>loc_Houston</th>\n",
       "      <th>loc_Los Angeles</th>\n",
       "      <th>loc_Miami</th>\n",
       "      <th>loc_New York</th>\n",
       "      <th>Monthly_Bill</th>\n",
       "      <th>Total_Usage_GB</th>\n",
       "      <th>Subscription_Length_Months</th>\n",
       "      <th>Age</th>\n",
       "    </tr>\n",
       "  </thead>\n",
       "  <tbody>\n",
       "    <tr>\n",
       "      <th>0</th>\n",
       "      <td>1</td>\n",
       "      <td>0</td>\n",
       "      <td>1</td>\n",
       "      <td>0</td>\n",
       "      <td>0</td>\n",
       "      <td>0.410604</td>\n",
       "      <td>-0.294288</td>\n",
       "      <td>0.651112</td>\n",
       "      <td>1.241664</td>\n",
       "    </tr>\n",
       "    <tr>\n",
       "      <th>1</th>\n",
       "      <td>0</td>\n",
       "      <td>0</td>\n",
       "      <td>0</td>\n",
       "      <td>0</td>\n",
       "      <td>1</td>\n",
       "      <td>-0.805370</td>\n",
       "      <td>-0.784848</td>\n",
       "      <td>-1.658870</td>\n",
       "      <td>1.176220</td>\n",
       "    </tr>\n",
       "    <tr>\n",
       "      <th>2</th>\n",
       "      <td>0</td>\n",
       "      <td>0</td>\n",
       "      <td>1</td>\n",
       "      <td>0</td>\n",
       "      <td>0</td>\n",
       "      <td>1.009199</td>\n",
       "      <td>1.422674</td>\n",
       "      <td>-1.081375</td>\n",
       "      <td>-1.310645</td>\n",
       "    </tr>\n",
       "    <tr>\n",
       "      <th>3</th>\n",
       "      <td>0</td>\n",
       "      <td>0</td>\n",
       "      <td>0</td>\n",
       "      <td>1</td>\n",
       "      <td>0</td>\n",
       "      <td>1.625589</td>\n",
       "      <td>0.173278</td>\n",
       "      <td>-1.370122</td>\n",
       "      <td>-0.525319</td>\n",
       "    </tr>\n",
       "    <tr>\n",
       "      <th>4</th>\n",
       "      <td>0</td>\n",
       "      <td>0</td>\n",
       "      <td>0</td>\n",
       "      <td>1</td>\n",
       "      <td>0</td>\n",
       "      <td>-0.341718</td>\n",
       "      <td>-0.064337</td>\n",
       "      <td>0.939859</td>\n",
       "      <td>0.129119</td>\n",
       "    </tr>\n",
       "  </tbody>\n",
       "</table>\n",
       "</div>"
      ],
      "text/plain": [
       "   gender_Male  loc_Houston  loc_Los Angeles  loc_Miami  loc_New York  \\\n",
       "0            1            0                1          0             0   \n",
       "1            0            0                0          0             1   \n",
       "2            0            0                1          0             0   \n",
       "3            0            0                0          1             0   \n",
       "4            0            0                0          1             0   \n",
       "\n",
       "   Monthly_Bill  Total_Usage_GB  Subscription_Length_Months       Age  \n",
       "0      0.410604       -0.294288                    0.651112  1.241664  \n",
       "1     -0.805370       -0.784848                   -1.658870  1.176220  \n",
       "2      1.009199        1.422674                   -1.081375 -1.310645  \n",
       "3      1.625589        0.173278                   -1.370122 -0.525319  \n",
       "4     -0.341718       -0.064337                    0.939859  0.129119  "
      ]
     },
     "execution_count": 377,
     "metadata": {},
     "output_type": "execute_result"
    }
   ],
   "source": [
    "X.head()"
   ]
  },
  {
   "cell_type": "code",
   "execution_count": 378,
   "id": "61ad9376",
   "metadata": {},
   "outputs": [],
   "source": [
    "import statsmodels.api as sm"
   ]
  },
  {
   "cell_type": "code",
   "execution_count": 379,
   "id": "facceecb",
   "metadata": {},
   "outputs": [],
   "source": [
    "from sklearn.model_selection import train_test_split"
   ]
  },
  {
   "cell_type": "code",
   "execution_count": 380,
   "id": "af48193f",
   "metadata": {},
   "outputs": [],
   "source": [
    "X=sm.add_constant(X)"
   ]
  },
  {
   "cell_type": "code",
   "execution_count": 381,
   "id": "55d720ee",
   "metadata": {},
   "outputs": [],
   "source": [
    "X_train,X_test,y_train,y_test=train_test_split(x,y,test_size=0.3,random_state=42)"
   ]
  },
  {
   "cell_type": "code",
   "execution_count": 382,
   "id": "5e1ac205",
   "metadata": {},
   "outputs": [
    {
     "data": {
      "text/html": [
       "<div>\n",
       "<style scoped>\n",
       "    .dataframe tbody tr th:only-of-type {\n",
       "        vertical-align: middle;\n",
       "    }\n",
       "\n",
       "    .dataframe tbody tr th {\n",
       "        vertical-align: top;\n",
       "    }\n",
       "\n",
       "    .dataframe thead th {\n",
       "        text-align: right;\n",
       "    }\n",
       "</style>\n",
       "<table border=\"1\" class=\"dataframe\">\n",
       "  <thead>\n",
       "    <tr style=\"text-align: right;\">\n",
       "      <th></th>\n",
       "      <th>gender_Male</th>\n",
       "      <th>loc_Houston</th>\n",
       "      <th>loc_Los Angeles</th>\n",
       "      <th>loc_Miami</th>\n",
       "      <th>loc_New York</th>\n",
       "      <th>Monthly_Bill</th>\n",
       "      <th>Total_Usage_GB</th>\n",
       "      <th>Subscription_Length_Months</th>\n",
       "      <th>Age</th>\n",
       "    </tr>\n",
       "  </thead>\n",
       "  <tbody>\n",
       "    <tr>\n",
       "      <th>76513</th>\n",
       "      <td>1</td>\n",
       "      <td>0</td>\n",
       "      <td>1</td>\n",
       "      <td>0</td>\n",
       "      <td>0</td>\n",
       "      <td>1.634981</td>\n",
       "      <td>1.483994</td>\n",
       "      <td>0.073616</td>\n",
       "      <td>-1.245201</td>\n",
       "    </tr>\n",
       "    <tr>\n",
       "      <th>60406</th>\n",
       "      <td>0</td>\n",
       "      <td>1</td>\n",
       "      <td>0</td>\n",
       "      <td>0</td>\n",
       "      <td>0</td>\n",
       "      <td>0.338436</td>\n",
       "      <td>0.832468</td>\n",
       "      <td>-1.514496</td>\n",
       "      <td>0.652670</td>\n",
       "    </tr>\n",
       "    <tr>\n",
       "      <th>27322</th>\n",
       "      <td>1</td>\n",
       "      <td>0</td>\n",
       "      <td>0</td>\n",
       "      <td>0</td>\n",
       "      <td>0</td>\n",
       "      <td>0.029500</td>\n",
       "      <td>1.169728</td>\n",
       "      <td>1.084233</td>\n",
       "      <td>-0.787094</td>\n",
       "    </tr>\n",
       "    <tr>\n",
       "      <th>53699</th>\n",
       "      <td>0</td>\n",
       "      <td>1</td>\n",
       "      <td>0</td>\n",
       "      <td>0</td>\n",
       "      <td>0</td>\n",
       "      <td>0.896994</td>\n",
       "      <td>-1.612668</td>\n",
       "      <td>-0.070758</td>\n",
       "      <td>1.110777</td>\n",
       "    </tr>\n",
       "    <tr>\n",
       "      <th>65412</th>\n",
       "      <td>0</td>\n",
       "      <td>0</td>\n",
       "      <td>0</td>\n",
       "      <td>0</td>\n",
       "      <td>1</td>\n",
       "      <td>-1.142976</td>\n",
       "      <td>-1.344393</td>\n",
       "      <td>-1.081375</td>\n",
       "      <td>1.699771</td>\n",
       "    </tr>\n",
       "  </tbody>\n",
       "</table>\n",
       "</div>"
      ],
      "text/plain": [
       "       gender_Male  loc_Houston  loc_Los Angeles  loc_Miami  loc_New York  \\\n",
       "76513            1            0                1          0             0   \n",
       "60406            0            1                0          0             0   \n",
       "27322            1            0                0          0             0   \n",
       "53699            0            1                0          0             0   \n",
       "65412            0            0                0          0             1   \n",
       "\n",
       "       Monthly_Bill  Total_Usage_GB  Subscription_Length_Months       Age  \n",
       "76513      1.634981        1.483994                    0.073616 -1.245201  \n",
       "60406      0.338436        0.832468                   -1.514496  0.652670  \n",
       "27322      0.029500        1.169728                    1.084233 -0.787094  \n",
       "53699      0.896994       -1.612668                   -0.070758  1.110777  \n",
       "65412     -1.142976       -1.344393                   -1.081375  1.699771  "
      ]
     },
     "execution_count": 382,
     "metadata": {},
     "output_type": "execute_result"
    }
   ],
   "source": [
    "X_train[:5]"
   ]
  },
  {
   "cell_type": "code",
   "execution_count": 383,
   "id": "957ffee2",
   "metadata": {},
   "outputs": [
    {
     "data": {
      "text/plain": [
       "((70000, 9), (30000, 9), (70000,), (30000,))"
      ]
     },
     "execution_count": 383,
     "metadata": {},
     "output_type": "execute_result"
    }
   ],
   "source": [
    "X_train.shape,X_test.shape,y_train.shape,y_test.shape"
   ]
  },
  {
   "cell_type": "code",
   "execution_count": 384,
   "id": "a80295fa",
   "metadata": {},
   "outputs": [
    {
     "name": "stdout",
     "output_type": "stream",
     "text": [
      "Optimization terminated successfully.\n",
      "         Current function value: 0.693083\n",
      "         Iterations 3\n"
     ]
    },
    {
     "data": {
      "text/html": [
       "<table class=\"simpletable\">\n",
       "<caption>Logit Regression Results</caption>\n",
       "<tr>\n",
       "  <th>Dep. Variable:</th>         <td>Churn</td>      <th>  No. Observations:  </th>  <td> 70000</td>  \n",
       "</tr>\n",
       "<tr>\n",
       "  <th>Model:</th>                 <td>Logit</td>      <th>  Df Residuals:      </th>  <td> 69991</td>  \n",
       "</tr>\n",
       "<tr>\n",
       "  <th>Method:</th>                 <td>MLE</td>       <th>  Df Model:          </th>  <td>     8</td>  \n",
       "</tr>\n",
       "<tr>\n",
       "  <th>Date:</th>            <td>Fri, 25 Aug 2023</td> <th>  Pseudo R-squ.:     </th> <td>8.989e-05</td>\n",
       "</tr>\n",
       "<tr>\n",
       "  <th>Time:</th>                <td>20:07:01</td>     <th>  Log-Likelihood:    </th> <td> -48516.</td> \n",
       "</tr>\n",
       "<tr>\n",
       "  <th>converged:</th>             <td>True</td>       <th>  LL-Null:           </th> <td> -48520.</td> \n",
       "</tr>\n",
       "<tr>\n",
       "  <th>Covariance Type:</th>     <td>nonrobust</td>    <th>  LLR p-value:       </th>  <td>0.3662</td>  \n",
       "</tr>\n",
       "</table>\n",
       "<table class=\"simpletable\">\n",
       "<tr>\n",
       "               <td></td>                 <th>coef</th>     <th>std err</th>      <th>z</th>      <th>P>|z|</th>  <th>[0.025</th>    <th>0.975]</th>  \n",
       "</tr>\n",
       "<tr>\n",
       "  <th>gender_Male</th>                <td>    0.0017</td> <td>    0.014</td> <td>    0.126</td> <td> 0.900</td> <td>   -0.025</td> <td>    0.029</td>\n",
       "</tr>\n",
       "<tr>\n",
       "  <th>loc_Houston</th>                <td>   -0.0302</td> <td>    0.018</td> <td>   -1.658</td> <td> 0.097</td> <td>   -0.066</td> <td>    0.006</td>\n",
       "</tr>\n",
       "<tr>\n",
       "  <th>loc_Los Angeles</th>            <td>   -0.0152</td> <td>    0.018</td> <td>   -0.835</td> <td> 0.404</td> <td>   -0.051</td> <td>    0.020</td>\n",
       "</tr>\n",
       "<tr>\n",
       "  <th>loc_Miami</th>                  <td>    0.0105</td> <td>    0.018</td> <td>    0.577</td> <td> 0.564</td> <td>   -0.025</td> <td>    0.046</td>\n",
       "</tr>\n",
       "<tr>\n",
       "  <th>loc_New York</th>               <td>    0.0242</td> <td>    0.018</td> <td>    1.324</td> <td> 0.185</td> <td>   -0.012</td> <td>    0.060</td>\n",
       "</tr>\n",
       "<tr>\n",
       "  <th>Monthly_Bill</th>               <td>   -0.0067</td> <td>    0.008</td> <td>   -0.890</td> <td> 0.373</td> <td>   -0.022</td> <td>    0.008</td>\n",
       "</tr>\n",
       "<tr>\n",
       "  <th>Total_Usage_GB</th>             <td>   -0.0022</td> <td>    0.008</td> <td>   -0.296</td> <td> 0.767</td> <td>   -0.017</td> <td>    0.013</td>\n",
       "</tr>\n",
       "<tr>\n",
       "  <th>Subscription_Length_Months</th> <td>    0.0026</td> <td>    0.008</td> <td>    0.350</td> <td> 0.726</td> <td>   -0.012</td> <td>    0.017</td>\n",
       "</tr>\n",
       "<tr>\n",
       "  <th>Age</th>                        <td>    0.0095</td> <td>    0.008</td> <td>    1.252</td> <td> 0.210</td> <td>   -0.005</td> <td>    0.024</td>\n",
       "</tr>\n",
       "</table>"
      ],
      "text/plain": [
       "<class 'statsmodels.iolib.summary.Summary'>\n",
       "\"\"\"\n",
       "                           Logit Regression Results                           \n",
       "==============================================================================\n",
       "Dep. Variable:                  Churn   No. Observations:                70000\n",
       "Model:                          Logit   Df Residuals:                    69991\n",
       "Method:                           MLE   Df Model:                            8\n",
       "Date:                Fri, 25 Aug 2023   Pseudo R-squ.:               8.989e-05\n",
       "Time:                        20:07:01   Log-Likelihood:                -48516.\n",
       "converged:                       True   LL-Null:                       -48520.\n",
       "Covariance Type:            nonrobust   LLR p-value:                    0.3662\n",
       "==============================================================================================\n",
       "                                 coef    std err          z      P>|z|      [0.025      0.975]\n",
       "----------------------------------------------------------------------------------------------\n",
       "gender_Male                    0.0017      0.014      0.126      0.900      -0.025       0.029\n",
       "loc_Houston                   -0.0302      0.018     -1.658      0.097      -0.066       0.006\n",
       "loc_Los Angeles               -0.0152      0.018     -0.835      0.404      -0.051       0.020\n",
       "loc_Miami                      0.0105      0.018      0.577      0.564      -0.025       0.046\n",
       "loc_New York                   0.0242      0.018      1.324      0.185      -0.012       0.060\n",
       "Monthly_Bill                  -0.0067      0.008     -0.890      0.373      -0.022       0.008\n",
       "Total_Usage_GB                -0.0022      0.008     -0.296      0.767      -0.017       0.013\n",
       "Subscription_Length_Months     0.0026      0.008      0.350      0.726      -0.012       0.017\n",
       "Age                            0.0095      0.008      1.252      0.210      -0.005       0.024\n",
       "==============================================================================================\n",
       "\"\"\""
      ]
     },
     "execution_count": 384,
     "metadata": {},
     "output_type": "execute_result"
    }
   ],
   "source": [
    "logml=sm.Logit(y_train,X_train)\n",
    "logml.fit().summary()"
   ]
  },
  {
   "cell_type": "code",
   "execution_count": 385,
   "id": "783e0639",
   "metadata": {},
   "outputs": [],
   "source": [
    "import matplotlib.pyplot as plt\n",
    "import seaborn as sns\n",
    "%matplotlib inline"
   ]
  },
  {
   "cell_type": "code",
   "execution_count": 386,
   "id": "cdb57aaf",
   "metadata": {},
   "outputs": [
    {
     "data": {
      "text/plain": [
       "<AxesSubplot:>"
      ]
     },
     "execution_count": 386,
     "metadata": {},
     "output_type": "execute_result"
    },
    {
     "data": {
      "image/png": "[encoded data removed]",
      "text/plain": [
       "<Figure size 2000x1000 with 2 Axes>"
      ]
     },
     "metadata": {},
     "output_type": "display_data"
    }
   ],
   "source": [
    "plt.figure(figsize=(20,10))\n",
    "sns.heatmap(X.corr(),annot=True)"
   ]
  },
  {
   "cell_type": "code",
   "execution_count": 387,
   "id": "a23d1a4a",
   "metadata": {},
   "outputs": [],
   "source": [
    "from statsmodels.stats.outliers_influence import variance_inflation_factor\n",
    "vif=pd.DataFrame()\n",
    "vif['variables']=X.columns\n",
    "vif['VIF']=[round(variance_inflation_factor(X.values,i),2) for i in range(X.shape[1])]"
   ]
  },
  {
   "cell_type": "code",
   "execution_count": 388,
   "id": "c160b21b",
   "metadata": {},
   "outputs": [
    {
     "data": {
      "text/html": [
       "<div>\n",
       "<style scoped>\n",
       "    .dataframe tbody tr th:only-of-type {\n",
       "        vertical-align: middle;\n",
       "    }\n",
       "\n",
       "    .dataframe tbody tr th {\n",
       "        vertical-align: top;\n",
       "    }\n",
       "\n",
       "    .dataframe thead th {\n",
       "        text-align: right;\n",
       "    }\n",
       "</style>\n",
       "<table border=\"1\" class=\"dataframe\">\n",
       "  <thead>\n",
       "    <tr style=\"text-align: right;\">\n",
       "      <th></th>\n",
       "      <th>variables</th>\n",
       "      <th>VIF</th>\n",
       "    </tr>\n",
       "  </thead>\n",
       "  <tbody>\n",
       "    <tr>\n",
       "      <th>1</th>\n",
       "      <td>gender_Male</td>\n",
       "      <td>1.0</td>\n",
       "    </tr>\n",
       "    <tr>\n",
       "      <th>6</th>\n",
       "      <td>Monthly_Bill</td>\n",
       "      <td>1.0</td>\n",
       "    </tr>\n",
       "    <tr>\n",
       "      <th>7</th>\n",
       "      <td>Total_Usage_GB</td>\n",
       "      <td>1.0</td>\n",
       "    </tr>\n",
       "    <tr>\n",
       "      <th>8</th>\n",
       "      <td>Subscription_Length_Months</td>\n",
       "      <td>1.0</td>\n",
       "    </tr>\n",
       "    <tr>\n",
       "      <th>9</th>\n",
       "      <td>Age</td>\n",
       "      <td>1.0</td>\n",
       "    </tr>\n",
       "    <tr>\n",
       "      <th>2</th>\n",
       "      <td>loc_Houston</td>\n",
       "      <td>1.6</td>\n",
       "    </tr>\n",
       "    <tr>\n",
       "      <th>3</th>\n",
       "      <td>loc_Los Angeles</td>\n",
       "      <td>1.6</td>\n",
       "    </tr>\n",
       "    <tr>\n",
       "      <th>4</th>\n",
       "      <td>loc_Miami</td>\n",
       "      <td>1.6</td>\n",
       "    </tr>\n",
       "    <tr>\n",
       "      <th>5</th>\n",
       "      <td>loc_New York</td>\n",
       "      <td>1.6</td>\n",
       "    </tr>\n",
       "    <tr>\n",
       "      <th>0</th>\n",
       "      <td>const</td>\n",
       "      <td>6.0</td>\n",
       "    </tr>\n",
       "  </tbody>\n",
       "</table>\n",
       "</div>"
      ],
      "text/plain": [
       "                    variables  VIF\n",
       "1                 gender_Male  1.0\n",
       "6                Monthly_Bill  1.0\n",
       "7              Total_Usage_GB  1.0\n",
       "8  Subscription_Length_Months  1.0\n",
       "9                         Age  1.0\n",
       "2                 loc_Houston  1.6\n",
       "3             loc_Los Angeles  1.6\n",
       "4                   loc_Miami  1.6\n",
       "5                loc_New York  1.6\n",
       "0                       const  6.0"
      ]
     },
     "execution_count": 388,
     "metadata": {},
     "output_type": "execute_result"
    }
   ],
   "source": [
    "vif.sort_values(by=\"VIF\")"
   ]
  },
  {
   "cell_type": "code",
   "execution_count": 389,
   "id": "f5f1e3ad",
   "metadata": {},
   "outputs": [
    {
     "name": "stdout",
     "output_type": "stream",
     "text": [
      "<class 'pandas.core.frame.DataFrame'>\n",
      "RangeIndex: 100000 entries, 0 to 99999\n",
      "Data columns (total 10 columns):\n",
      " #   Column                      Non-Null Count   Dtype  \n",
      "---  ------                      --------------   -----  \n",
      " 0   const                       100000 non-null  float64\n",
      " 1   gender_Male                 100000 non-null  uint8  \n",
      " 2   loc_Houston                 100000 non-null  uint8  \n",
      " 3   loc_Los Angeles             100000 non-null  uint8  \n",
      " 4   loc_Miami                   100000 non-null  uint8  \n",
      " 5   loc_New York                100000 non-null  uint8  \n",
      " 6   Monthly_Bill                100000 non-null  float64\n",
      " 7   Total_Usage_GB              100000 non-null  float64\n",
      " 8   Subscription_Length_Months  100000 non-null  float64\n",
      " 9   Age                         100000 non-null  float64\n",
      "dtypes: float64(5), uint8(5)\n",
      "memory usage: 4.3 MB\n"
     ]
    }
   ],
   "source": [
    "X.info()"
   ]
  },
  {
   "cell_type": "code",
   "execution_count": null,
   "id": "5cffa02c",
   "metadata": {},
   "outputs": [],
   "source": []
  },
  {
   "cell_type": "code",
   "execution_count": 390,
   "id": "d2e3a8f7",
   "metadata": {},
   "outputs": [
    {
     "name": "stdout",
     "output_type": "stream",
     "text": [
      "Optimization terminated successfully.\n",
      "         Current function value: 0.693083\n",
      "         Iterations 3\n"
     ]
    },
    {
     "data": {
      "text/html": [
       "<table class=\"simpletable\">\n",
       "<caption>Logit Regression Results</caption>\n",
       "<tr>\n",
       "  <th>Dep. Variable:</th>         <td>Churn</td>      <th>  No. Observations:  </th>  <td> 70000</td>  \n",
       "</tr>\n",
       "<tr>\n",
       "  <th>Model:</th>                 <td>Logit</td>      <th>  Df Residuals:      </th>  <td> 69991</td>  \n",
       "</tr>\n",
       "<tr>\n",
       "  <th>Method:</th>                 <td>MLE</td>       <th>  Df Model:          </th>  <td>     8</td>  \n",
       "</tr>\n",
       "<tr>\n",
       "  <th>Date:</th>            <td>Fri, 25 Aug 2023</td> <th>  Pseudo R-squ.:     </th> <td>8.989e-05</td>\n",
       "</tr>\n",
       "<tr>\n",
       "  <th>Time:</th>                <td>20:07:03</td>     <th>  Log-Likelihood:    </th> <td> -48516.</td> \n",
       "</tr>\n",
       "<tr>\n",
       "  <th>converged:</th>             <td>True</td>       <th>  LL-Null:           </th> <td> -48520.</td> \n",
       "</tr>\n",
       "<tr>\n",
       "  <th>Covariance Type:</th>     <td>nonrobust</td>    <th>  LLR p-value:       </th>  <td>0.3662</td>  \n",
       "</tr>\n",
       "</table>\n",
       "<table class=\"simpletable\">\n",
       "<tr>\n",
       "               <td></td>                 <th>coef</th>     <th>std err</th>      <th>z</th>      <th>P>|z|</th>  <th>[0.025</th>    <th>0.975]</th>  \n",
       "</tr>\n",
       "<tr>\n",
       "  <th>gender_Male</th>                <td>    0.0017</td> <td>    0.014</td> <td>    0.126</td> <td> 0.900</td> <td>   -0.025</td> <td>    0.029</td>\n",
       "</tr>\n",
       "<tr>\n",
       "  <th>loc_Houston</th>                <td>   -0.0302</td> <td>    0.018</td> <td>   -1.658</td> <td> 0.097</td> <td>   -0.066</td> <td>    0.006</td>\n",
       "</tr>\n",
       "<tr>\n",
       "  <th>loc_Los Angeles</th>            <td>   -0.0152</td> <td>    0.018</td> <td>   -0.835</td> <td> 0.404</td> <td>   -0.051</td> <td>    0.020</td>\n",
       "</tr>\n",
       "<tr>\n",
       "  <th>loc_Miami</th>                  <td>    0.0105</td> <td>    0.018</td> <td>    0.577</td> <td> 0.564</td> <td>   -0.025</td> <td>    0.046</td>\n",
       "</tr>\n",
       "<tr>\n",
       "  <th>loc_New York</th>               <td>    0.0242</td> <td>    0.018</td> <td>    1.324</td> <td> 0.185</td> <td>   -0.012</td> <td>    0.060</td>\n",
       "</tr>\n",
       "<tr>\n",
       "  <th>Monthly_Bill</th>               <td>   -0.0067</td> <td>    0.008</td> <td>   -0.890</td> <td> 0.373</td> <td>   -0.022</td> <td>    0.008</td>\n",
       "</tr>\n",
       "<tr>\n",
       "  <th>Total_Usage_GB</th>             <td>   -0.0022</td> <td>    0.008</td> <td>   -0.296</td> <td> 0.767</td> <td>   -0.017</td> <td>    0.013</td>\n",
       "</tr>\n",
       "<tr>\n",
       "  <th>Subscription_Length_Months</th> <td>    0.0026</td> <td>    0.008</td> <td>    0.350</td> <td> 0.726</td> <td>   -0.012</td> <td>    0.017</td>\n",
       "</tr>\n",
       "<tr>\n",
       "  <th>Age</th>                        <td>    0.0095</td> <td>    0.008</td> <td>    1.252</td> <td> 0.210</td> <td>   -0.005</td> <td>    0.024</td>\n",
       "</tr>\n",
       "</table>"
      ],
      "text/plain": [
       "<class 'statsmodels.iolib.summary.Summary'>\n",
       "\"\"\"\n",
       "                           Logit Regression Results                           \n",
       "==============================================================================\n",
       "Dep. Variable:                  Churn   No. Observations:                70000\n",
       "Model:                          Logit   Df Residuals:                    69991\n",
       "Method:                           MLE   Df Model:                            8\n",
       "Date:                Fri, 25 Aug 2023   Pseudo R-squ.:               8.989e-05\n",
       "Time:                        20:07:03   Log-Likelihood:                -48516.\n",
       "converged:                       True   LL-Null:                       -48520.\n",
       "Covariance Type:            nonrobust   LLR p-value:                    0.3662\n",
       "==============================================================================================\n",
       "                                 coef    std err          z      P>|z|      [0.025      0.975]\n",
       "----------------------------------------------------------------------------------------------\n",
       "gender_Male                    0.0017      0.014      0.126      0.900      -0.025       0.029\n",
       "loc_Houston                   -0.0302      0.018     -1.658      0.097      -0.066       0.006\n",
       "loc_Los Angeles               -0.0152      0.018     -0.835      0.404      -0.051       0.020\n",
       "loc_Miami                      0.0105      0.018      0.577      0.564      -0.025       0.046\n",
       "loc_New York                   0.0242      0.018      1.324      0.185      -0.012       0.060\n",
       "Monthly_Bill                  -0.0067      0.008     -0.890      0.373      -0.022       0.008\n",
       "Total_Usage_GB                -0.0022      0.008     -0.296      0.767      -0.017       0.013\n",
       "Subscription_Length_Months     0.0026      0.008      0.350      0.726      -0.012       0.017\n",
       "Age                            0.0095      0.008      1.252      0.210      -0.005       0.024\n",
       "==============================================================================================\n",
       "\"\"\""
      ]
     },
     "execution_count": 390,
     "metadata": {},
     "output_type": "execute_result"
    }
   ],
   "source": [
    "X=sm.add_constant(X)\n",
    "X_train,X_test,y_train,y_test=train_test_split(x,y,test_size=0.3,random_state=42)\n",
    "logm2=sm.Logit(y_train,X_train)\n",
    "logm2.fit().summary()"
   ]
  },
  {
   "cell_type": "code",
   "execution_count": 391,
   "id": "b20c1797",
   "metadata": {},
   "outputs": [
    {
     "name": "stdout",
     "output_type": "stream",
     "text": [
      "[False  True  True  True  True  True False False False False]\n",
      "[3 1 1 1 1 1 6 2 4 5]\n"
     ]
    }
   ],
   "source": [
    "from sklearn.linear_model import LogisticRegression\n",
    "from sklearn.feature_selection import RFE\n",
    "\n",
    "l2=LogisticRegression()\n",
    "rfe=RFE(l2)\n",
    "rfe=rfe.fit(X,y)\n",
    "\n",
    "print(rfe.support_)\n",
    "print(rfe.ranking_)"
   ]
  },
  {
   "cell_type": "code",
   "execution_count": 392,
   "id": "d088a1ec",
   "metadata": {},
   "outputs": [
    {
     "data": {
      "text/plain": [
       "Index(['gender_Male', 'loc_Houston', 'loc_Los Angeles', 'loc_Miami',\n",
       "       'loc_New York'],\n",
       "      dtype='object')"
      ]
     },
     "execution_count": 392,
     "metadata": {},
     "output_type": "execute_result"
    }
   ],
   "source": [
    "X.columns[(rfe.support_)]"
   ]
  },
  {
   "cell_type": "code",
   "execution_count": 393,
   "id": "539dcce8",
   "metadata": {},
   "outputs": [],
   "source": [
    "col=[\"gender_Male\",'loc_Houston', 'loc_Los Angeles', 'loc_Miami', 'loc_New York']"
   ]
  },
  {
   "cell_type": "code",
   "execution_count": 394,
   "id": "2aa712a4",
   "metadata": {},
   "outputs": [
    {
     "data": {
      "text/plain": [
       "LogisticRegression()"
      ]
     },
     "execution_count": 394,
     "metadata": {},
     "output_type": "execute_result"
    }
   ],
   "source": [
    "logsl=LogisticRegression()\n",
    "logsl.fit(X_train[col],y_train)"
   ]
  },
  {
   "cell_type": "code",
   "execution_count": 395,
   "id": "4775a853",
   "metadata": {},
   "outputs": [
    {
     "name": "stdout",
     "output_type": "stream",
     "text": [
      "Optimization terminated successfully.\n",
      "         Current function value: 0.693101\n",
      "         Iterations 3\n"
     ]
    },
    {
     "data": {
      "text/html": [
       "<table class=\"simpletable\">\n",
       "<caption>Logit Regression Results</caption>\n",
       "<tr>\n",
       "  <th>Dep. Variable:</th>         <td>Churn</td>      <th>  No. Observations:  </th>  <td> 70000</td>  \n",
       "</tr>\n",
       "<tr>\n",
       "  <th>Model:</th>                 <td>Logit</td>      <th>  Df Residuals:      </th>  <td> 69995</td>  \n",
       "</tr>\n",
       "<tr>\n",
       "  <th>Method:</th>                 <td>MLE</td>       <th>  Df Model:          </th>  <td>     4</td>  \n",
       "</tr>\n",
       "<tr>\n",
       "  <th>Date:</th>            <td>Fri, 25 Aug 2023</td> <th>  Pseudo R-squ.:     </th> <td>6.338e-05</td>\n",
       "</tr>\n",
       "<tr>\n",
       "  <th>Time:</th>                <td>20:07:05</td>     <th>  Log-Likelihood:    </th> <td> -48517.</td> \n",
       "</tr>\n",
       "<tr>\n",
       "  <th>converged:</th>             <td>True</td>       <th>  LL-Null:           </th> <td> -48520.</td> \n",
       "</tr>\n",
       "<tr>\n",
       "  <th>Covariance Type:</th>     <td>nonrobust</td>    <th>  LLR p-value:       </th>  <td>0.1882</td>  \n",
       "</tr>\n",
       "</table>\n",
       "<table class=\"simpletable\">\n",
       "<tr>\n",
       "         <td></td>            <th>coef</th>     <th>std err</th>      <th>z</th>      <th>P>|z|</th>  <th>[0.025</th>    <th>0.975]</th>  \n",
       "</tr>\n",
       "<tr>\n",
       "  <th>gender_Male</th>     <td>    0.0018</td> <td>    0.014</td> <td>    0.127</td> <td> 0.899</td> <td>   -0.025</td> <td>    0.029</td>\n",
       "</tr>\n",
       "<tr>\n",
       "  <th>loc_Houston</th>     <td>   -0.0302</td> <td>    0.018</td> <td>   -1.658</td> <td> 0.097</td> <td>   -0.066</td> <td>    0.006</td>\n",
       "</tr>\n",
       "<tr>\n",
       "  <th>loc_Los Angeles</th> <td>   -0.0154</td> <td>    0.018</td> <td>   -0.847</td> <td> 0.397</td> <td>   -0.051</td> <td>    0.020</td>\n",
       "</tr>\n",
       "<tr>\n",
       "  <th>loc_Miami</th>       <td>    0.0105</td> <td>    0.018</td> <td>    0.575</td> <td> 0.565</td> <td>   -0.025</td> <td>    0.046</td>\n",
       "</tr>\n",
       "<tr>\n",
       "  <th>loc_New York</th>    <td>    0.0241</td> <td>    0.018</td> <td>    1.319</td> <td> 0.187</td> <td>   -0.012</td> <td>    0.060</td>\n",
       "</tr>\n",
       "</table>"
      ],
      "text/plain": [
       "<class 'statsmodels.iolib.summary.Summary'>\n",
       "\"\"\"\n",
       "                           Logit Regression Results                           \n",
       "==============================================================================\n",
       "Dep. Variable:                  Churn   No. Observations:                70000\n",
       "Model:                          Logit   Df Residuals:                    69995\n",
       "Method:                           MLE   Df Model:                            4\n",
       "Date:                Fri, 25 Aug 2023   Pseudo R-squ.:               6.338e-05\n",
       "Time:                        20:07:05   Log-Likelihood:                -48517.\n",
       "converged:                       True   LL-Null:                       -48520.\n",
       "Covariance Type:            nonrobust   LLR p-value:                    0.1882\n",
       "===================================================================================\n",
       "                      coef    std err          z      P>|z|      [0.025      0.975]\n",
       "-----------------------------------------------------------------------------------\n",
       "gender_Male         0.0018      0.014      0.127      0.899      -0.025       0.029\n",
       "loc_Houston        -0.0302      0.018     -1.658      0.097      -0.066       0.006\n",
       "loc_Los Angeles    -0.0154      0.018     -0.847      0.397      -0.051       0.020\n",
       "loc_Miami           0.0105      0.018      0.575      0.565      -0.025       0.046\n",
       "loc_New York        0.0241      0.018      1.319      0.187      -0.012       0.060\n",
       "===================================================================================\n",
       "\"\"\""
      ]
     },
     "execution_count": 395,
     "metadata": {},
     "output_type": "execute_result"
    }
   ],
   "source": [
    "logs2=sm.Logit(y_train,X_train[col])\n",
    "logs2.fit().summary()"
   ]
  },
  {
   "cell_type": "code",
   "execution_count": 396,
   "id": "4d902b7d",
   "metadata": {},
   "outputs": [
    {
     "data": {
      "text/html": [
       "<div>\n",
       "<style scoped>\n",
       "    .dataframe tbody tr th:only-of-type {\n",
       "        vertical-align: middle;\n",
       "    }\n",
       "\n",
       "    .dataframe tbody tr th {\n",
       "        vertical-align: top;\n",
       "    }\n",
       "\n",
       "    .dataframe thead th {\n",
       "        text-align: right;\n",
       "    }\n",
       "</style>\n",
       "<table border=\"1\" class=\"dataframe\">\n",
       "  <thead>\n",
       "    <tr style=\"text-align: right;\">\n",
       "      <th></th>\n",
       "      <th>1</th>\n",
       "    </tr>\n",
       "  </thead>\n",
       "  <tbody>\n",
       "    <tr>\n",
       "      <th>0</th>\n",
       "      <td>0.491816</td>\n",
       "    </tr>\n",
       "    <tr>\n",
       "      <th>1</th>\n",
       "      <td>0.507113</td>\n",
       "    </tr>\n",
       "    <tr>\n",
       "      <th>2</th>\n",
       "      <td>0.495523</td>\n",
       "    </tr>\n",
       "    <tr>\n",
       "      <th>3</th>\n",
       "      <td>0.507113</td>\n",
       "    </tr>\n",
       "    <tr>\n",
       "      <th>4</th>\n",
       "      <td>0.495523</td>\n",
       "    </tr>\n",
       "  </tbody>\n",
       "</table>\n",
       "</div>"
      ],
      "text/plain": [
       "          1\n",
       "0  0.491816\n",
       "1  0.507113\n",
       "2  0.495523\n",
       "3  0.507113\n",
       "4  0.495523"
      ]
     },
     "execution_count": 396,
     "metadata": {},
     "output_type": "execute_result"
    }
   ],
   "source": [
    "y_pred=logsl.predict_proba(X_test[col])\n",
    "\n",
    "y_pred_df =pd.DataFrame(y_pred)\n",
    "\n",
    "y_pred_1=y_pred_df.iloc[:,[1]]\n",
    "y_pred_1.head()"
   ]
  },
  {
   "cell_type": "code",
   "execution_count": 397,
   "id": "13921c36",
   "metadata": {},
   "outputs": [],
   "source": [
    "y_test_df=pd.DataFrame(y_test)"
   ]
  },
  {
   "cell_type": "code",
   "execution_count": 398,
   "id": "0506d972",
   "metadata": {},
   "outputs": [],
   "source": [
    "y_test_df[\"custId\"]=y_test_df.index"
   ]
  },
  {
   "cell_type": "code",
   "execution_count": 399,
   "id": "db4cc0c3",
   "metadata": {},
   "outputs": [],
   "source": [
    "y_pred_1.reset_index(drop=True,inplace=True)\n",
    "y_test_df.reset_index(drop=True,inplace=True)"
   ]
  },
  {
   "cell_type": "code",
   "execution_count": 400,
   "id": "dc3118de",
   "metadata": {},
   "outputs": [],
   "source": [
    "y_pred_final=pd.concat([y_test_df,y_pred_1],axis=1)"
   ]
  },
  {
   "cell_type": "code",
   "execution_count": 401,
   "id": "2e57b9b7",
   "metadata": {},
   "outputs": [],
   "source": [
    "y_pred_final=y_pred_final.rename(columns={1:\"Churn_prob\"})"
   ]
  },
  {
   "cell_type": "code",
   "execution_count": 402,
   "id": "e600ba9e",
   "metadata": {},
   "outputs": [
    {
     "data": {
      "text/html": [
       "<div>\n",
       "<style scoped>\n",
       "    .dataframe tbody tr th:only-of-type {\n",
       "        vertical-align: middle;\n",
       "    }\n",
       "\n",
       "    .dataframe tbody tr th {\n",
       "        vertical-align: top;\n",
       "    }\n",
       "\n",
       "    .dataframe thead th {\n",
       "        text-align: right;\n",
       "    }\n",
       "</style>\n",
       "<table border=\"1\" class=\"dataframe\">\n",
       "  <thead>\n",
       "    <tr style=\"text-align: right;\">\n",
       "      <th></th>\n",
       "      <th>Churn</th>\n",
       "      <th>custId</th>\n",
       "      <th>Churn_prob</th>\n",
       "    </tr>\n",
       "  </thead>\n",
       "  <tbody>\n",
       "    <tr>\n",
       "      <th>0</th>\n",
       "      <td>0</td>\n",
       "      <td>75721</td>\n",
       "      <td>0.491816</td>\n",
       "    </tr>\n",
       "    <tr>\n",
       "      <th>1</th>\n",
       "      <td>0</td>\n",
       "      <td>80184</td>\n",
       "      <td>0.507113</td>\n",
       "    </tr>\n",
       "    <tr>\n",
       "      <th>2</th>\n",
       "      <td>0</td>\n",
       "      <td>19864</td>\n",
       "      <td>0.495523</td>\n",
       "    </tr>\n",
       "    <tr>\n",
       "      <th>3</th>\n",
       "      <td>1</td>\n",
       "      <td>76699</td>\n",
       "      <td>0.507113</td>\n",
       "    </tr>\n",
       "    <tr>\n",
       "      <th>4</th>\n",
       "      <td>0</td>\n",
       "      <td>92991</td>\n",
       "      <td>0.495523</td>\n",
       "    </tr>\n",
       "    <tr>\n",
       "      <th>...</th>\n",
       "      <td>...</td>\n",
       "      <td>...</td>\n",
       "      <td>...</td>\n",
       "    </tr>\n",
       "    <tr>\n",
       "      <th>29995</th>\n",
       "      <td>1</td>\n",
       "      <td>42648</td>\n",
       "      <td>0.505412</td>\n",
       "    </tr>\n",
       "    <tr>\n",
       "      <th>29996</th>\n",
       "      <td>0</td>\n",
       "      <td>86306</td>\n",
       "      <td>0.491816</td>\n",
       "    </tr>\n",
       "    <tr>\n",
       "      <th>29997</th>\n",
       "      <td>1</td>\n",
       "      <td>45466</td>\n",
       "      <td>0.496159</td>\n",
       "    </tr>\n",
       "    <tr>\n",
       "      <th>29998</th>\n",
       "      <td>0</td>\n",
       "      <td>63724</td>\n",
       "      <td>0.497224</td>\n",
       "    </tr>\n",
       "    <tr>\n",
       "      <th>29999</th>\n",
       "      <td>0</td>\n",
       "      <td>34122</td>\n",
       "      <td>0.493516</td>\n",
       "    </tr>\n",
       "  </tbody>\n",
       "</table>\n",
       "<p>30000 rows × 3 columns</p>\n",
       "</div>"
      ],
      "text/plain": [
       "       Churn  custId  Churn_prob\n",
       "0          0   75721    0.491816\n",
       "1          0   80184    0.507113\n",
       "2          0   19864    0.495523\n",
       "3          1   76699    0.507113\n",
       "4          0   92991    0.495523\n",
       "...      ...     ...         ...\n",
       "29995      1   42648    0.505412\n",
       "29996      0   86306    0.491816\n",
       "29997      1   45466    0.496159\n",
       "29998      0   63724    0.497224\n",
       "29999      0   34122    0.493516\n",
       "\n",
       "[30000 rows x 3 columns]"
      ]
     },
     "execution_count": 402,
     "metadata": {},
     "output_type": "execute_result"
    }
   ],
   "source": [
    "y_pred_final"
   ]
  },
  {
   "cell_type": "code",
   "execution_count": 403,
   "id": "5a624cc0",
   "metadata": {},
   "outputs": [],
   "source": [
    "y_pred_final=y_pred_final.reindex(columns=[\"custId\",'Churn',\"Churn_prob\"])"
   ]
  },
  {
   "cell_type": "code",
   "execution_count": 404,
   "id": "eae8450c",
   "metadata": {},
   "outputs": [
    {
     "data": {
      "text/html": [
       "<div>\n",
       "<style scoped>\n",
       "    .dataframe tbody tr th:only-of-type {\n",
       "        vertical-align: middle;\n",
       "    }\n",
       "\n",
       "    .dataframe tbody tr th {\n",
       "        vertical-align: top;\n",
       "    }\n",
       "\n",
       "    .dataframe thead th {\n",
       "        text-align: right;\n",
       "    }\n",
       "</style>\n",
       "<table border=\"1\" class=\"dataframe\">\n",
       "  <thead>\n",
       "    <tr style=\"text-align: right;\">\n",
       "      <th></th>\n",
       "      <th>custId</th>\n",
       "      <th>Churn</th>\n",
       "      <th>Churn_prob</th>\n",
       "    </tr>\n",
       "  </thead>\n",
       "  <tbody>\n",
       "    <tr>\n",
       "      <th>0</th>\n",
       "      <td>75721</td>\n",
       "      <td>0</td>\n",
       "      <td>0.491816</td>\n",
       "    </tr>\n",
       "    <tr>\n",
       "      <th>1</th>\n",
       "      <td>80184</td>\n",
       "      <td>0</td>\n",
       "      <td>0.507113</td>\n",
       "    </tr>\n",
       "    <tr>\n",
       "      <th>2</th>\n",
       "      <td>19864</td>\n",
       "      <td>0</td>\n",
       "      <td>0.495523</td>\n",
       "    </tr>\n",
       "    <tr>\n",
       "      <th>3</th>\n",
       "      <td>76699</td>\n",
       "      <td>1</td>\n",
       "      <td>0.507113</td>\n",
       "    </tr>\n",
       "    <tr>\n",
       "      <th>4</th>\n",
       "      <td>92991</td>\n",
       "      <td>0</td>\n",
       "      <td>0.495523</td>\n",
       "    </tr>\n",
       "  </tbody>\n",
       "</table>\n",
       "</div>"
      ],
      "text/plain": [
       "   custId  Churn  Churn_prob\n",
       "0   75721      0    0.491816\n",
       "1   80184      0    0.507113\n",
       "2   19864      0    0.495523\n",
       "3   76699      1    0.507113\n",
       "4   92991      0    0.495523"
      ]
     },
     "execution_count": 404,
     "metadata": {},
     "output_type": "execute_result"
    }
   ],
   "source": [
    "y_pred_final.head()"
   ]
  },
  {
   "cell_type": "code",
   "execution_count": 405,
   "id": "3c61bb2f",
   "metadata": {},
   "outputs": [],
   "source": [
    "y_pred_final['predicted']=y_pred_final.Churn_prob.map(lambda x:1 if x>0.5 else 0)"
   ]
  },
  {
   "cell_type": "code",
   "execution_count": 406,
   "id": "d626e151",
   "metadata": {},
   "outputs": [
    {
     "data": {
      "text/html": [
       "<div>\n",
       "<style scoped>\n",
       "    .dataframe tbody tr th:only-of-type {\n",
       "        vertical-align: middle;\n",
       "    }\n",
       "\n",
       "    .dataframe tbody tr th {\n",
       "        vertical-align: top;\n",
       "    }\n",
       "\n",
       "    .dataframe thead th {\n",
       "        text-align: right;\n",
       "    }\n",
       "</style>\n",
       "<table border=\"1\" class=\"dataframe\">\n",
       "  <thead>\n",
       "    <tr style=\"text-align: right;\">\n",
       "      <th></th>\n",
       "      <th>custId</th>\n",
       "      <th>Churn</th>\n",
       "      <th>Churn_prob</th>\n",
       "      <th>predicted</th>\n",
       "    </tr>\n",
       "  </thead>\n",
       "  <tbody>\n",
       "    <tr>\n",
       "      <th>0</th>\n",
       "      <td>75721</td>\n",
       "      <td>0</td>\n",
       "      <td>0.491816</td>\n",
       "      <td>0</td>\n",
       "    </tr>\n",
       "    <tr>\n",
       "      <th>1</th>\n",
       "      <td>80184</td>\n",
       "      <td>0</td>\n",
       "      <td>0.507113</td>\n",
       "      <td>1</td>\n",
       "    </tr>\n",
       "    <tr>\n",
       "      <th>2</th>\n",
       "      <td>19864</td>\n",
       "      <td>0</td>\n",
       "      <td>0.495523</td>\n",
       "      <td>0</td>\n",
       "    </tr>\n",
       "    <tr>\n",
       "      <th>3</th>\n",
       "      <td>76699</td>\n",
       "      <td>1</td>\n",
       "      <td>0.507113</td>\n",
       "      <td>1</td>\n",
       "    </tr>\n",
       "    <tr>\n",
       "      <th>4</th>\n",
       "      <td>92991</td>\n",
       "      <td>0</td>\n",
       "      <td>0.495523</td>\n",
       "      <td>0</td>\n",
       "    </tr>\n",
       "  </tbody>\n",
       "</table>\n",
       "</div>"
      ],
      "text/plain": [
       "   custId  Churn  Churn_prob  predicted\n",
       "0   75721      0    0.491816          0\n",
       "1   80184      0    0.507113          1\n",
       "2   19864      0    0.495523          0\n",
       "3   76699      1    0.507113          1\n",
       "4   92991      0    0.495523          0"
      ]
     },
     "execution_count": 406,
     "metadata": {},
     "output_type": "execute_result"
    }
   ],
   "source": [
    "y_pred_final.head()"
   ]
  },
  {
   "cell_type": "code",
   "execution_count": 407,
   "id": "1a0dfc6b",
   "metadata": {},
   "outputs": [],
   "source": [
    "from sklearn import metrics"
   ]
  },
  {
   "cell_type": "code",
   "execution_count": 408,
   "id": "9df7c400",
   "metadata": {},
   "outputs": [],
   "source": [
    "confusion=metrics.confusion_matrix(y_pred_final.Churn,y_pred_final.predicted)"
   ]
  },
  {
   "cell_type": "code",
   "execution_count": 409,
   "id": "59b40ed2",
   "metadata": {},
   "outputs": [
    {
     "data": {
      "text/plain": [
       "array([[9251, 5901],\n",
       "       [8935, 5913]], dtype=int64)"
      ]
     },
     "execution_count": 409,
     "metadata": {},
     "output_type": "execute_result"
    }
   ],
   "source": [
    "confusion"
   ]
  },
  {
   "cell_type": "code",
   "execution_count": 410,
   "id": "60b89d81",
   "metadata": {},
   "outputs": [
    {
     "data": {
      "text/plain": [
       "0.5054666666666666"
      ]
     },
     "execution_count": 410,
     "metadata": {},
     "output_type": "execute_result"
    }
   ],
   "source": [
    "metrics.accuracy_score(y_pred_final.Churn,y_pred_final.predicted)"
   ]
  },
  {
   "cell_type": "code",
   "execution_count": 411,
   "id": "ec3d192d",
   "metadata": {},
   "outputs": [],
   "source": [
    "\n"
   ]
  },
  {
   "cell_type": "code",
   "execution_count": null,
   "id": "07514e80",
   "metadata": {},
   "outputs": [],
   "source": [
    "\n",
    "\n"
   ]
  },
  {
   "cell_type": "code",
   "execution_count": null,
   "id": "87c61cf2",
   "metadata": {},
   "outputs": [],
   "source": [
    "\n",
    "\n",
    "\n"
   ]
  },
  {
   "cell_type": "code",
   "execution_count": null,
   "id": "d8b2a6e2",
   "metadata": {},
   "outputs": [],
   "source": [
    "\n",
    "\n"
   ]
  },
  {
   "cell_type": "code",
   "execution_count": null,
   "id": "6b30c0d2",
   "metadata": {},
   "outputs": [],
   "source": [
    "\n",
    "\n"
   ]
  },
  {
   "cell_type": "code",
   "execution_count": null,
   "id": "f3d7b823",
   "metadata": {},
   "outputs": [],
   "source": []
  },
  {
   "cell_type": "code",
   "execution_count": null,
   "id": "9209f288",
   "metadata": {},
   "outputs": [],
   "source": []
  }
 ],
 "metadata": {
  "kernelspec": {
   "display_name": "Python 3 (ipykernel)",
   "language": "python",
   "name": "python3"
  },
  "language_info": {
   "codemirror_mode": {
    "name": "ipython",
    "version": 3
   },
   "file_extension": ".py",
   "mimetype": "text/x-python",
   "name": "python",
   "nbconvert_exporter": "python",
   "pygments_lexer": "ipython3",
   "version": "3.9.13"
  }
 },
 "nbformat": 4,
 "nbformat_minor": 5
}
